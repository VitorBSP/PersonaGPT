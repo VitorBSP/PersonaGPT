{
 "cells": [
  {
   "cell_type": "code",
   "execution_count": 1,
   "metadata": {},
   "outputs": [],
   "source": [
    "import os\n",
    "import openai\n",
    "import wandb\n",
    "from dotenv import load_dotenv\n",
    "\n",
    "load_dotenv()\n",
    "openai.api_key = os.getenv(\"OPENAI_API_KEY\")"
   ]
  },
  {
   "cell_type": "code",
   "execution_count": 2,
   "metadata": {},
   "outputs": [],
   "source": [
    "characteristics = {\n",
    "    \"fullName\": \"Maria\",\n",
    "    \"age\": 41.0,\n",
    "    \"location\": {\n",
    "        \"city\": \"Sao Paulo\"\n",
    "    },\n",
    "    \"education\": \"2º Grau Completo (Ensino Médio)\",\n",
    "    \"ivs\": 39.23232323232323,\n",
    "    \"demographic\": {\n",
    "        \"fullName\": \"Maria\",\n",
    "        \"nationality\": \"não informado\",\n",
    "        \"maritalStatus\": \"solteira\",\n",
    "        \"genero\": \"F\",\n",
    "        \"partner\": True,\n",
    "        \"role\": \"assistente(a) administrativo\",\n",
    "        \"segment\": None,\n",
    "        \"salary\": \"não informado\",\n",
    "        \"immobile\": {\n",
    "            \"self\": 1\n",
    "        },\n",
    "        \"car\": {\n",
    "            \"qtd\": 1\n",
    "        }\n",
    "    },\n",
    "    \"generation\": {\n",
    "        \"fullName\": \"Maria\",\n",
    "        \"name\": \"Millennials\",\n",
    "        \"text\": \"aprecia comunicações autêntica e rápida, preferencialmente por texto, chats, email e Instagram. Eles valorizam eficiências e abordagens voltadas a tecnologia.\"\n",
    "    },\n",
    "    \"interest\": [\n",
    "        {\n",
    "            \"value\": \"digital\",\n",
    "            \"percent\": 100.0\n",
    "        },\n",
    "        {\n",
    "            \"value\": \"interesse_delivery\",\n",
    "            \"percent\": 58.3\n",
    "        },\n",
    "        {\n",
    "            \"value\": \"interesse_alimentos_bebidas\",\n",
    "            \"percent\": 41.7\n",
    "        },\n",
    "        {\n",
    "            \"value\": \"interesse_entreterimento\",\n",
    "            \"percent\": 41.7\n",
    "        },\n",
    "        {\n",
    "            \"value\": \"interesse_streaming\",\n",
    "            \"percent\": 41.7\n",
    "        },\n",
    "        {\n",
    "            \"value\": \"interesse_automoveis\",\n",
    "            \"percent\": 25.0\n",
    "        },\n",
    "        {\n",
    "            \"value\": \"interesse_bebes\",\n",
    "            \"percent\": 25.0\n",
    "        },\n",
    "        {\n",
    "            \"value\": \"interesse_beleza_saude\",\n",
    "            \"percent\": 8.3\n",
    "        },\n",
    "        {\n",
    "            \"value\": \"interesse_moda\",\n",
    "            \"percent\": 8.3\n",
    "        },\n",
    "        {\n",
    "            \"value\": \"interesse_esporte_lazer\",\n",
    "            \"percent\": 8.3\n",
    "        },\n",
    "        {\n",
    "            \"value\": \"interesse_viagem_turismo\",\n",
    "            \"percent\": 8.3\n",
    "        }\n",
    "    ],\n",
    "    \"behavior\": [\n",
    "        \"Tem presença digital mas não são heavy users de tecnologia.\",\n",
    "        \"Não trocam um delivery pelo fogão.\"\n",
    "    ],\n",
    "    \"texto\": \"\\n\\nMaria é uma mulher de mais de 41 anos, com ensino médio completo. Ela possui um grande interesse em tecnologia digital, delivery, alimentos e bebidas, entretenimento, streaming, automóveis, bebês, beleza e saúde, moda, esportes e lazer e viagens e turismo. Ela gosta de acompanhar as novidades do mundo digital e está sempre à procura de novas formas de se manter atualizada. Maria também é uma grande apreciadora de gastronomia e adora experimentar novos pratos. Além disso, ela gosta muito de viajar para conhecer lugares diferentes. Ela também curte ficar por dentro das tendências da moda para se sentir sempre bonita. Ela gosta de esportes e lazer como forma de relaxar a mente e manter o corpo em movimento. Maria é uma pessoa antenada na tecnologia moderna que busca sempre o melhor para si mesma.\"\n",
    "}"
   ]
  },
  {
   "cell_type": "code",
   "execution_count": 3,
   "metadata": {},
   "outputs": [
    {
     "data": {
      "text/plain": [
       "'F'"
      ]
     },
     "execution_count": 3,
     "metadata": {},
     "output_type": "execute_result"
    }
   ],
   "source": [
    "characteristics['demographic']['genero']"
   ]
  },
  {
   "cell_type": "code",
   "execution_count": 3,
   "metadata": {},
   "outputs": [],
   "source": [
    "if characteristics['interest'] is not None:\n",
    "    texto_interesse = ', '.join([interesse['value'] for interesse in characteristics['interest']]) "
   ]
  },
  {
   "cell_type": "code",
   "execution_count": 4,
   "metadata": {},
   "outputs": [
    {
     "data": {
      "text/plain": [
       "'digital, interesse_delivery, interesse_alimentos_bebidas, interesse_entreterimento, interesse_streaming, interesse_automoveis, interesse_bebes, interesse_beleza_saude, interesse_moda, interesse_esporte_lazer, interesse_viagem_turismo'"
      ]
     },
     "execution_count": 4,
     "metadata": {},
     "output_type": "execute_result"
    }
   ],
   "source": [
    "texto_interesse"
   ]
  },
  {
   "cell_type": "code",
   "execution_count": 5,
   "metadata": {},
   "outputs": [],
   "source": [
    "response = openai.ChatCompletion.create(\n",
    "  model=\"gpt-3.5-turbo\",\n",
    "  messages=[\n",
    "        {\"role\": \"system\", \"content\": \"Você é um escritor especialista em descrição de pessoas.\"},\n",
    "        {\"role\": \"user\", \"content\": f\"Crie um texto sobre uma persona chamada {characteristics['fullName']}, {'mulher' if characteristics['demographic']['genero'] == 'F' else 'M'} com {characteristics['age']} anos, nascida no {characteristics['demographic']['nationality']} em {characteristics['location']['city']}, com ensino médio completo e {characteristics['demographic']['maritalStatus']}.\"},\n",
    "        {\"role\": \"user\", \"content\": f\"Dada as informações sobre a persona, continue o texto sabendo que a persona é um {characteristics['demographic']['role']}, com renda de 2 a 4 S.M. e com {characteristics['demographic']['car']['qtd']} carros\"},\n",
    "        {\"role\": \"user\", \"content\": f\"Dada as informações sobre a persona, continue o texto sabendo que a persona tem interesse em {texto_interesse}.\"}],\n",
    "        temperature=0.6,\n",
    "        max_tokens=500,\n",
    "        top_p=1.0,\n",
    "        frequency_penalty=0.6,\n",
    "        presence_penalty=0.5,\n",
    ")"
   ]
  },
  {
   "cell_type": "code",
   "execution_count": 11,
   "metadata": {},
   "outputs": [
    {
     "data": {
      "text/plain": [
       "'Maria é uma mulher de 41 anos que nasceu em São Paulo e possui ensino médio completo. Solteira e com uma carreira como assistente administrativo, ela tem uma renda que varia entre 2 e 4 salários mínimos. Maria é uma pessoa bastante interessada no mundo digital e em tecnologia, o que a torna sempre atualizada sobre as últimas novidades do mercado.\\n\\nAlém disso, ela gosta muito de praticidade e por isso se interessa por serviços de delivery, especialmente quando o assunto são alimentos e bebidas. Afinal, com a correria do dia a dia, nada melhor do que ter a comida preferida entregue na porta de casa.\\n\\nNo seu tempo livre, Maria gosta de se divertir com entretenimento online ou assistir séries em plataformas de streaming. Ela também tem um carro e adora dirigi-lo para passear nos fins de semana ou até mesmo fazer pequenas viagens.\\n\\nComo muitas mulheres da sua idade, Maria também tem interesse em beleza e saúde. Sempre se cuidando para manter uma boa aparência física e mentalmente saudável. Além disso, ela também gosta muito de moda esportiva e lazer ao ar livre.\\n\\nPor fim, Maria ama viajar! Seja para conhecer novos lugares ou simplesmente relaxar na praia ou no campo. E mesmo sem filhos ainda, ela já demonstra interesse em artigos relacionados à maternidade e bebês.\\n\\nMaria é uma persona interessante porque representa muitas pessoas na faixa etária dela: modernas, práticas e sempre conectadas às novidades tecnológicas.'"
      ]
     },
     "execution_count": 11,
     "metadata": {},
     "output_type": "execute_result"
    }
   ],
   "source": [
    "response['choices'][0]['message']['content']"
   ]
  },
  {
   "cell_type": "code",
   "execution_count": 12,
   "metadata": {},
   "outputs": [],
   "source": [
    "characteristics = {\n",
    "    \"fullName\": \"Joao\",\n",
    "    \"age\": 37.0,\n",
    "    \"location\": {\n",
    "        \"city\": \"SAO PAULO\"\n",
    "    },\n",
    "    \"education\": \"10 - REGULAR OU SUPLETIVO DO ENSINO MEDIO OU DO 2 GRAU\",\n",
    "    \"ivs\": 44.954,\n",
    "    \"demographic\": {\n",
    "        \"fullName\": \"Joao\",\n",
    "        \"nationality\": \"brazil       \",\n",
    "        \"maritalStatus\": \"casado\",\n",
    "        \"genero\": \"M\",\n",
    "        \"partner\": True,\n",
    "        \"role\": \"administrador\",\n",
    "        \"segment\": None,\n",
    "        \"salary\": \"1 - ATE 2 SM\",\n",
    "        \"immobile\": {\n",
    "            \"self\": 1\n",
    "        },\n",
    "        \"car\": {\n",
    "            \"qtd\": 1\n",
    "        }\n",
    "    },\n",
    "    \"generation\": {\n",
    "        \"fullName\": \"Joao\",\n",
    "        \"name\": \"Millennials\",\n",
    "        \"text\": \"aprecia comunicações autêntica e rápida, preferencialmente por texto, chats, email e Instagram. Eles valorizam eficiências e abordagens voltadas a tecnologia.\"\n",
    "    },\n",
    "    \"interest\": [\n",
    "        {\n",
    "            \"value\": \"digital\",\n",
    "            \"percent\": 99.6\n",
    "        },\n",
    "        {\n",
    "            \"value\": \"interesse_delivery\",\n",
    "            \"percent\": 70.4\n",
    "        },\n",
    "        {\n",
    "            \"value\": \"interesse_automoveis\",\n",
    "            \"percent\": 48.1\n",
    "        },\n",
    "        {\n",
    "            \"value\": \"interesse_alimentos_bebidas\",\n",
    "            \"percent\": 48.1\n",
    "        },\n",
    "        {\n",
    "            \"value\": \"interesse_streaming\",\n",
    "            \"percent\": 37.0\n",
    "        },\n",
    "        {\n",
    "            \"value\": \"interesse_esporte_lazer\",\n",
    "            \"percent\": 29.6\n",
    "        },\n",
    "        {\n",
    "            \"value\": \"interesse_viagem_turismo\",\n",
    "            \"percent\": 29.6\n",
    "        },\n",
    "        {\n",
    "            \"value\": \"interesse_beleza_saude\",\n",
    "            \"percent\": 22.2\n",
    "        },\n",
    "        {\n",
    "            \"value\": \"interesse_entreterimento\",\n",
    "            \"percent\": 22.2\n",
    "        },\n",
    "        {\n",
    "            \"value\": \"interesse_moda\",\n",
    "            \"percent\": 22.2\n",
    "        },\n",
    "        {\n",
    "            \"value\": \"interesse_servicos_online\",\n",
    "            \"percent\": 18.5\n",
    "        },\n",
    "        {\n",
    "            \"value\": \"interesse_bebes\",\n",
    "            \"percent\": 14.8\n",
    "        },\n",
    "        {\n",
    "            \"value\": \"interesse_ginastica\",\n",
    "            \"percent\": 7.4\n",
    "        },\n",
    "        {\n",
    "            \"value\": \"interesse_eletronicos\",\n",
    "            \"percent\": 3.7\n",
    "        }\n",
    "    ],\n",
    "    \"behavior\": [\n",
    "        \"Tem presença digital mas não são heavy users de tecnologia.\",\n",
    "        \"Não trocam um delivery pelo fogão.\"\n",
    "    ],\n",
    "    \"texto\": \"\\n\\nJoão é uma pessoa de 37 anos, com ensino médio ou 2º grau completos. Ele é apaixonado por tecnologia e tem interesse em delivery, automóveis, alimentos e bebidas, streaming, esportes e lazer, viagem e turismo, beleza e saúde, entretenimento, moda, serviços online, bebês, ginástica e eletrônicos. João adora descobrir novas tecnologias para aprimorar sua vida diária. Ele também gosta de ficar por dentro das últimas tendências da indústria digital para se manter atualizado. Além disso, João é um grande entusiasta da vida ao ar livre. Ele gosta de praticar esportes ao ar livre com seus amigos ou familiares para desfrutar dos benefícios que a natureza oferece. Por fim, João é um grande viajante que adora conhecer novos lugares para ter experiências únicas.\"\n",
    "}"
   ]
  },
  {
   "cell_type": "code",
   "execution_count": 13,
   "metadata": {},
   "outputs": [
    {
     "data": {
      "text/plain": [
       "'digital, interesse_delivery, interesse_automoveis, interesse_alimentos_bebidas, interesse_streaming, interesse_esporte_lazer, interesse_viagem_turismo, interesse_beleza_saude, interesse_entreterimento, interesse_moda, interesse_servicos_online, interesse_bebes, interesse_ginastica, interesse_eletronicos'"
      ]
     },
     "execution_count": 13,
     "metadata": {},
     "output_type": "execute_result"
    }
   ],
   "source": [
    "if characteristics['interest'] is not None:\n",
    "    texto_interesse = ', '.join([interesse['value'] for interesse in characteristics['interest']]) \n",
    "texto_interesse"
   ]
  },
  {
   "cell_type": "code",
   "execution_count": 15,
   "metadata": {},
   "outputs": [
    {
     "data": {
      "text/plain": [
       "'João é um administrador de 37 anos, nascido em São Paulo. Com uma formação regular ou supletiva do ensino médio ou segundo grau, ele é casado e possui uma renda mensal de até 2 salários mínimos. João tem um carro, o que lhe permite ter mobilidade para explorar suas diversas áreas de interesse.\\n\\nEntre seus hobbies, João tem grande interesse pela área digital e serviços online, além de apreciar a comodidade do delivery. Ele também gosta muito de automóveis e tudo que envolve o universo da alimentação e bebidas, como novos restaurantes e cervejas artesanais.\\n\\nJoão não dispensa momentos de lazer e entretenimento em família, seja assistindo a um filme ou série por streaming ou praticando esportes ao ar livre. E quando se trata de viagens, ele adora conhecer novos lugares e culturas.\\n\\nPreocupado com sua saúde e bem-estar, João também tem interesse em beleza e cuidados pessoais. Além disso, ele está sempre antenado nas últimas tendências da moda masculina.\\n\\nCom tantos interesses variados, João é uma pessoa bastante curiosa e aberta a experimentar coisas novas em busca de novas experiências.'"
      ]
     },
     "execution_count": 15,
     "metadata": {},
     "output_type": "execute_result"
    }
   ],
   "source": [
    "response = openai.ChatCompletion.create(\n",
    "  model=\"gpt-3.5-turbo\",\n",
    "  messages=[\n",
    "        {\"role\": \"system\", \"content\": \"Você é um escritor especialista em descrição de pessoas.\"},\n",
    "        {\"role\": \"user\", \"content\": f\"Crie um texto sobre uma persona chamada {characteristics['fullName']}, {'mulher' if characteristics['demographic']['genero'] == 'F' else 'M'} com {characteristics['age']} anos, nascida no {characteristics['demographic']['nationality']} em {characteristics['location']['city']}, com {characteristics['education']} e {characteristics['demographic']['maritalStatus']}.\"},\n",
    "        {\"role\": \"user\", \"content\": f\"Dada as informações sobre a persona, continue o texto sabendo que a persona é um {characteristics['demographic']['role']}, com renda de {characteristics['demographic']['salary']} e com {characteristics['demographic']['car']['qtd']} carros\"},\n",
    "        {\"role\": \"user\", \"content\": f\"Dada as informações sobre a persona, continue o texto sabendo que a persona tem interesse em {texto_interesse}.\"}],\n",
    "        temperature=0.6,\n",
    "        max_tokens=500,\n",
    "        top_p=1.0,\n",
    "        frequency_penalty=0.6,\n",
    "        presence_penalty=0.5,\n",
    ")\n",
    "response['choices'][0]['message']['content']"
   ]
  },
  {
   "cell_type": "code",
   "execution_count": 1,
   "metadata": {},
   "outputs": [],
   "source": [
    "characteristics = {\n",
    "    \"fullName\": \"Maria\",\n",
    "    \"age\": 40.0,\n",
    "    \"location\": {\n",
    "        \"city\": \"SAO PAULO\"\n",
    "    },\n",
    "    \"education\": \"10 - REGULAR OU SUPLETIVO DO ENSINO MEDIO OU DO 2 GRAU\",\n",
    "    \"ivs\": 43.46,\n",
    "    \"demographic\": {\n",
    "        \"fullName\": \"Maria\",\n",
    "        \"nationality\": \"não informado\",\n",
    "        \"maritalStatus\": \"casada\",\n",
    "        \"genero\": \"F\",\n",
    "        \"partner\": True,\n",
    "        \"role\": \"administrador(a)\",\n",
    "        \"segment\": None,\n",
    "        \"salary\": \"1 - ATE 2 SM\",\n",
    "        \"immobile\": {\n",
    "            \"self\": 1\n",
    "        },\n",
    "        \"car\": {\n",
    "            \"qtd\": 1\n",
    "        }\n",
    "    },\n",
    "    \"generation\": {\n",
    "        \"fullName\": \"Maria\",\n",
    "        \"name\": \"Millennials\",\n",
    "        \"text\": \"aprecia comunicações autêntica e rápida, preferencialmente por texto, chats, email e Instagram. Eles valorizam eficiências e abordagens voltadas a tecnologia.\"\n",
    "    },\n",
    "    \"interest\": [\n",
    "        {\n",
    "            \"value\": \"digital\",\n",
    "            \"percent\": 100.0\n",
    "        },\n",
    "        {\n",
    "            \"value\": \"interesse_delivery\",\n",
    "            \"percent\": 75.0\n",
    "        },\n",
    "        {\n",
    "            \"value\": \"interesse_automoveis\",\n",
    "            \"percent\": 70.0\n",
    "        },\n",
    "        {\n",
    "            \"value\": \"interesse_alimentos_bebidas\",\n",
    "            \"percent\": 60.0\n",
    "        },\n",
    "        {\n",
    "            \"value\": \"interesse_streaming\",\n",
    "            \"percent\": 40.0\n",
    "        },\n",
    "        {\n",
    "            \"value\": \"interesse_bebes\",\n",
    "            \"percent\": 30.0\n",
    "        },\n",
    "        {\n",
    "            \"value\": \"interesse_entreterimento\",\n",
    "            \"percent\": 25.0\n",
    "        },\n",
    "        {\n",
    "            \"value\": \"interesse_esporte_lazer\",\n",
    "            \"percent\": 25.0\n",
    "        },\n",
    "        {\n",
    "            \"value\": \"interesse_viagem_turismo\",\n",
    "            \"percent\": 25.0\n",
    "        },\n",
    "        {\n",
    "            \"value\": \"interesse_beleza_saude\",\n",
    "            \"percent\": 20.0\n",
    "        },\n",
    "        {\n",
    "            \"value\": \"interesse_moda\",\n",
    "            \"percent\": 20.0\n",
    "        },\n",
    "        {\n",
    "            \"value\": \"interesse_servicos_online\",\n",
    "            \"percent\": 15.0\n",
    "        }\n",
    "    ],\n",
    "    \"behavior\": [\n",
    "        \"Gostam de comer, mas não deixam de pedir um delivery no conforto de casa.\",\n",
    "        \"Tem presença digital mas não são heavy users de tecnologia.\"\n",
    "    ],\n",
    "    \"texto\": \"\\n\\nMaria é uma mulher de mais de 40 anos, com formação regular ou supletiva do ensino médio ou do 2º grau. Ela é extremamente interessada em tudo que se relaciona à tecnologia e à digitalização. Além disso, Maria também tem interesse em delivery, automóveis, alimentos e bebidas, streaming, bebês, entretenimento, esportes e lazer, viagens e turismo, beleza e saúde, moda e serviços online. Ela está sempre atenta às tendências do mercado para aproveitar as novas oportunidades de negócios que surgem.\"\n",
    "}"
   ]
  },
  {
   "cell_type": "code",
   "execution_count": 2,
   "metadata": {},
   "outputs": [
    {
     "data": {
      "text/plain": [
       "'digital, interesse_delivery, interesse_automoveis, interesse_alimentos_bebidas, interesse_streaming, interesse_bebes, interesse_entreterimento, interesse_esporte_lazer, interesse_viagem_turismo, interesse_beleza_saude, interesse_moda, interesse_servicos_online'"
      ]
     },
     "execution_count": 2,
     "metadata": {},
     "output_type": "execute_result"
    }
   ],
   "source": [
    "if characteristics['interest'] is not None:\n",
    "    texto_interesse = ', '.join([interesse['value'] for interesse in characteristics['interest']]) \n",
    "texto_interesse"
   ]
  },
  {
   "cell_type": "code",
   "execution_count": 4,
   "metadata": {},
   "outputs": [
    {
     "name": "stdout",
     "output_type": "stream",
     "text": [
      "Você é um escritor especialista em descrição de pessoas. Crie um texto sobre uma persona chamada Maria, mulher com 40.0 anos, nascida no não informado em SAO PAULO, com 10 - REGULAR OU SUPLETIVO DO ENSINO MEDIO OU DO 2 GRAU e casada. Dada as informações sobre a persona, continue o texto sabendo que a persona é um administrador(a), com renda de 1 - ATE 2 SM e com 1 carros\n"
     ]
    },
    {
     "data": {
      "text/plain": [
       "'Dada as informações sobre a persona, continue o texto sabendo que a persona tem interesse em digital, interesse_delivery, interesse_automoveis, interesse_alimentos_bebidas, interesse_streaming, interesse_bebes, interesse_entreterimento, interesse_esporte_lazer, interesse_viagem_turismo, interesse_beleza_saude, interesse_moda, interesse_servicos_online.'"
      ]
     },
     "execution_count": 4,
     "metadata": {},
     "output_type": "execute_result"
    }
   ],
   "source": [
    "print(\"Você é um escritor especialista em descrição de pessoas.\",\n",
    "f\"Crie um texto sobre uma persona chamada {characteristics['fullName']}, {'mulher' if characteristics['demographic']['genero'] == 'F' else 'M'} com {characteristics['age']} anos, nascida no {characteristics['demographic']['nationality']} em {characteristics['location']['city']}, com {characteristics['education']} e {characteristics['demographic']['maritalStatus']}.\",\n",
    "f\"Dada as informações sobre a persona, continue o texto sabendo que a persona é um {characteristics['demographic']['role']}, com renda de {characteristics['demographic']['salary']} e com {characteristics['demographic']['car']['qtd']} carros\"),\n",
    "f\"Dada as informações sobre a persona, continue o texto sabendo que a persona tem interesse em {texto_interesse}.\""
   ]
  },
  {
   "cell_type": "code",
   "execution_count": 4,
   "metadata": {},
   "outputs": [
    {
     "data": {
      "text/plain": [
       "'Maria é uma mulher de 40 anos, nascida em São Paulo e com um olhar perspicaz para o mundo dos negócios. Como administradora, ela sabe como gerenciar suas finanças com sabedoria e eficácia. Com uma renda mensal de até 2 salários mínimos, Maria é capaz de manter sua casa confortável e ainda investir em seus interesses.\\n\\nFalando em interesses, Maria é uma pessoa bastante versátil. Ela tem interesse em tudo o que envolve tecnologia e digitalização, além de estar sempre antenada nas novidades sobre delivery de alimentos e bebidas. Seu carro é seu companheiro inseparável para todas as ocasiões, seja para trabalhar ou viajar pelo país.\\n\\nMaria também adora se divertir nas horas vagas. Ela gosta de assistir a filmes e séries por meio de plataformas de streaming online, além de ser apaixonada por esportes e lazer ao ar livre. Embora não tenha filhos ainda, Maria já possui um grande interesse pela área infantil - desde cuidados com bebês até brinquedos educativos.\\n\\nA beleza e saúde também são assuntos que chamam a atenção dessa administradora dedicada. Ela procura sempre estar atualizada sobre as últimas tendências da moda feminina e masculina, bem como os melhores serviços online relacionados à beleza pessoal.\\n\\nPor fim, Maria adora viajar pelo Brasil ou pelo mundo afora para conhecer novas culturas e experimentar diferentes tipos de culinária local - afinal, quem não ama uma boa aventura? Com tantos interesses distintos, essa persona certamente tem muito a oferecer ao mercado consumidor brasileiro!'"
      ]
     },
     "execution_count": 4,
     "metadata": {},
     "output_type": "execute_result"
    }
   ],
   "source": [
    "response = openai.ChatCompletion.create(\n",
    "  model=\"gpt-3.5-turbo\",\n",
    "  messages=[\n",
    "        {\"role\": \"system\", \"content\": \"Você é um escritor especialista em descrição de pessoas.\"},\n",
    "        {\"role\": \"user\", \"content\": f\"Crie um texto sobre uma persona chamada {characteristics['fullName']}, {'mulher' if characteristics['demographic']['genero'] == 'F' else 'M'} com {characteristics['age']} anos, nascida no {characteristics['demographic']['nationality']} em {characteristics['location']['city']}, com {characteristics['education']} e {characteristics['demographic']['maritalStatus']}.\"},\n",
    "        {\"role\": \"user\", \"content\": f\"Dada as informações sobre a persona, continue o texto sabendo que a persona é um {characteristics['demographic']['role']}, com renda de {characteristics['demographic']['salary']} e com {characteristics['demographic']['car']['qtd']} carros\"},\n",
    "        {\"role\": \"user\", \"content\": f\"Dada as informações sobre a persona, continue o texto sabendo que a persona tem interesse em {texto_interesse}.\"}],\n",
    "        temperature=0.6,\n",
    "        max_tokens=500,\n",
    "        top_p=1.0,\n",
    "        frequency_penalty=0.6,\n",
    "        presence_penalty=0.5,\n",
    ")\n",
    "response['choices'][0]['message']['content']"
   ]
  },
  {
   "cell_type": "code",
   "execution_count": 11,
   "metadata": {},
   "outputs": [
    {
     "data": {
      "text/plain": [
       "'Maria é uma mulher de 40 anos, natural de São Paulo, com formação regular no ensino médio e casada. Ela trabalha como administradora e tem uma renda mensal de até dois salários mínimos. Possui um carro e é interessada em diversas áreas, como tecnologia, delivery, automóveis, alimentos e bebidas, streaming, entretenimento, esporte e lazer, viagens e turismo, beleza e saúde, moda e serviços online. Maria é uma pessoa multifacetada que busca novidades em diferentes aspectos da vida.'"
      ]
     },
     "execution_count": 11,
     "metadata": {},
     "output_type": "execute_result"
    }
   ],
   "source": [
    "response = openai.ChatCompletion.create(\n",
    "  model=\"gpt-3.5-turbo\",\n",
    "  messages=[\n",
    "        {\"role\": \"system\", \"content\": \"Você é um escritor especialista em descrição de pessoas.\"},\n",
    "        {\"role\": \"user\", \"content\": f\"Crie um texto sobre uma persona chamada {characteristics['fullName']}, {'mulher' if characteristics['demographic']['genero'] == 'F' else 'M'} com {characteristics['age']} anos, nascida no {characteristics['demographic']['nationality']} em {characteristics['location']['city']}, com {characteristics['education']} e {characteristics['demographic']['maritalStatus']}.\"},\n",
    "        {\"role\": \"user\", \"content\": f\"Dada as informações sobre a persona, continue o texto sabendo que a persona é um {characteristics['demographic']['role']}, com renda de {characteristics['demographic']['salary']} e com {characteristics['demographic']['car']['qtd']} carros\"},\n",
    "        {\"role\": \"user\", \"content\": f\"Dada as informações sobre a persona, continue o texto sabendo que a persona tem interesse em {texto_interesse}.\"},\n",
    "        {\"role\": \"user\", \"content\": f\"Resuma toda a persona de uma forma que não seja tão explicitativa e mais criativa.\"}],\n",
    "        temperature=0.6,\n",
    "        max_tokens=500,\n",
    "        top_p=1.0,\n",
    "        frequency_penalty=0.6,\n",
    "        presence_penalty=0.5,\n",
    ")\n",
    "response['choices'][0]['message']['content']"
   ]
  },
  {
   "cell_type": "code",
   "execution_count": 8,
   "metadata": {},
   "outputs": [
    {
     "data": {
      "text/plain": [
       "'Maria é uma pessoa determinada e dedicada, que busca sempre se atualizar e aprender mais. Ela é alegre e comunicativa, gosta de estar rodeada de pessoas, mas também aprecia momentos de tranquilidade. É uma pessoa confiável e responsável, que preza pelos seus compromissos e pela família.'"
      ]
     },
     "execution_count": 8,
     "metadata": {},
     "output_type": "execute_result"
    }
   ],
   "source": [
    "response = openai.ChatCompletion.create(\n",
    "  model=\"gpt-3.5-turbo\",\n",
    "  messages=[\n",
    "        {\"role\": \"system\", \"content\": \"Você é um escritor especialista em descrição de pessoas.\"},\n",
    "        {\"role\": \"user\", \"content\": f\"Crie um texto sobre uma persona chamada {characteristics['fullName']}, {'mulher' if characteristics['demographic']['genero'] == 'F' else 'M'} com {characteristics['age']} anos, nascida no {characteristics['demographic']['nationality']} em {characteristics['location']['city']}, com {characteristics['education']} e {characteristics['demographic']['maritalStatus']}.\"},\n",
    "        {\"role\": \"user\", \"content\": f\"Dada as informações sobre a persona, continue o texto sabendo que a persona é um {characteristics['demographic']['role']}, com renda de {characteristics['demographic']['salary']} e com {characteristics['demographic']['car']['qtd']} carros\"},\n",
    "        {\"role\": \"user\", \"content\": f\"Dada as informações sobre a persona, continue o texto sabendo que a persona tem interesse em {texto_interesse}.\"},\n",
    "        {\"role\": \"user\", \"content\": f\"Descreve a personalidade dessa persona em poucas frases sem citar as características passadas pelo prompt.\"}],\n",
    "        temperature=0.6,\n",
    "        max_tokens=500,\n",
    "        top_p=1.0,\n",
    "        frequency_penalty=0.6,\n",
    "        presence_penalty=0.5,\n",
    ")\n",
    "response['choices'][0]['message']['content']"
   ]
  }
 ],
 "metadata": {
  "kernelspec": {
   "display_name": "rutilo",
   "language": "python",
   "name": "python3"
  },
  "language_info": {
   "codemirror_mode": {
    "name": "ipython",
    "version": 3
   },
   "file_extension": ".py",
   "mimetype": "text/x-python",
   "name": "python",
   "nbconvert_exporter": "python",
   "pygments_lexer": "ipython3",
   "version": "3.10.4"
  },
  "orig_nbformat": 4
 },
 "nbformat": 4,
 "nbformat_minor": 2
}
