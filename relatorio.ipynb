{
  "cells": [
    {
      "cell_type": "raw",
      "metadata": {},
      "source": [
        "---\n",
        "title: \"PersonaGPT\"\n",
        "subtitle: \"Inclusão de API da OpenAI para geração de textos do Rutilo\"\n",
        "author: \"Vítor Pereira\"\n",
        "institute: \"HartB Group\"\n",
        "format:\n",
        "  pdf:\n",
        "    toc: true\n",
        "    number-sections: true\n",
        "    colorlinks: true\n",
        "editor_options: \n",
        "  chunk_output_type: inline\n",
        "---"
      ],
      "id": "0f518d40"
    },
    {
      "cell_type": "code",
      "metadata": {},
      "source": [
        "import os\n",
        "import openai\n",
        "from dotenv import load_dotenv\n",
        "\n",
        "load_dotenv()\n",
        "openai.api_key = os.getenv(\"OPENAI_API_KEY\")"
      ],
      "id": "1809aa48",
      "execution_count": null,
      "outputs": []
    },
    {
      "cell_type": "markdown",
      "metadata": {},
      "source": [
        "# Introdução\n",
        "\n",
        "# Testando prompts e modelos\n",
        "\n",
        "## Prompt para sexo feminino, ensino médio completo, idade e interesse\n"
      ],
      "id": "96950ca0"
    },
    {
      "cell_type": "code",
      "metadata": {},
      "source": [
        "response = openai.Completion.create(\n",
        "                                    model=\"text-davinci-003\",\n",
        "                                    prompt=\"You: crie um texto sobre uma persona do sexo feminino, com ensino superior completo, com mais de 30 anos e interesse em computação.\",\n",
        "                                    temperature=0.5,\n",
        "                                    max_tokens=1000,\n",
        "                                    top_p=1.0,\n",
        "                                    frequency_penalty=0.25,\n",
        "                                    presence_penalty=0.0,\n",
        "                                    stop=[\"You:\"]\n",
        "                                    )\n",
        "persona_text = response.to_dict()\n",
        "persona_text['choices'][0]['text']"
      ],
      "id": "b09d9068",
      "execution_count": null,
      "outputs": []
    }
  ],
  "metadata": {
    "kernelspec": {
      "name": "python3",
      "language": "python",
      "display_name": "Python 3 (ipykernel)"
    }
  },
  "nbformat": 4,
  "nbformat_minor": 5
}