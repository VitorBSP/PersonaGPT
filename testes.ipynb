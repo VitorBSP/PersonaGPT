{
 "cells": [
  {
   "cell_type": "code",
   "execution_count": 1,
   "metadata": {},
   "outputs": [],
   "source": [
    "import os\n",
    "import openai\n",
    "import wandb\n",
    "openai.api_key = os.getenv(\"OPENAI_API_KEY\")\n",
    "\n"
   ]
  },
  {
   "attachments": {},
   "cell_type": "markdown",
   "metadata": {},
   "source": [
    "Crie um texto sobre uma persona do sexo {sexo}, com {escolaridade}, com cerca de {idade} anos, \n",
    "trabalha como {profissao}, com {carros} carros e {imoveis} casas. É da geração dos {geracao} e se \n",
    "interessa por [interesses].  "
   ]
  },
  {
   "cell_type": "code",
   "execution_count": 19,
   "metadata": {},
   "outputs": [],
   "source": [
    "response = openai.Completion.create(\n",
    "  model=\"text-davinci-003\",\n",
    "  prompt=\"You: crie um texto sobre uma persona do sexo feminino, com ensino superior completo, com mais de 30 anos e interesse em computação.\",\n",
    "  temperature=0.5,\n",
    "  max_tokens=1000,\n",
    "  top_p=1.0,\n",
    "  frequency_penalty=0.5,\n",
    "  presence_penalty=0.0,\n",
    "  stop=[\"You:\"]\n",
    ")"
   ]
  },
  {
   "cell_type": "code",
   "execution_count": 21,
   "metadata": {},
   "outputs": [],
   "source": [
    "persona_text = response.to_dict()"
   ]
  },
  {
   "cell_type": "code",
   "execution_count": 22,
   "metadata": {},
   "outputs": [
    {
     "data": {
      "text/plain": [
       "'\\n\\nAlice é uma mulher com mais de 30 anos, que possui formação superior em computação. Ela é apaixonada por tecnologia e sempre está à procura de novas maneiras de usar a computação para simplificar e melhorar a vida das pessoas. Ela é extremamente criativa e tem um grande senso de inovação, o que a torna um ótimo líder para projetos tecnológicos. Ela acredita que a computação tem o potencial de mudar o mundo e trabalha duro para tornar isso uma realidade. Alice adora compartilhar seu conhecimento com outras pessoas, ensinando-lhes como usar os recursos da computação para melhorar suas vidas.'"
      ]
     },
     "execution_count": 22,
     "metadata": {},
     "output_type": "execute_result"
    }
   ],
   "source": [
    "persona_text['choices'][0]['text']"
   ]
  },
  {
   "cell_type": "code",
   "execution_count": 23,
   "metadata": {},
   "outputs": [],
   "source": [
    "response = openai.Completion.create(\n",
    "  model=\"text-davinci-003\",\n",
    "  prompt=\"Crie um texto sobre uma persona do sexo feminino, com ensino médio completo, com mais de 35 anos, trabalha no varejo, com família sem imóveis ou carros, índice de vulnerabilidade social maior que 50 e interesses em bebês, beleza e saúde,  delivery e turismo.\",\n",
    "  temperature=0.5,\n",
    "  max_tokens=1000,\n",
    "  top_p=1.0,\n",
    "  frequency_penalty=0.5,\n",
    "  presence_penalty=0.0,\n",
    "  stop=[\"You:\"]\n",
    ")"
   ]
  },
  {
   "cell_type": "code",
   "execution_count": 24,
   "metadata": {},
   "outputs": [],
   "source": [
    "persona_text = response.to_dict()"
   ]
  },
  {
   "cell_type": "code",
   "execution_count": 25,
   "metadata": {},
   "outputs": [
    {
     "data": {
      "text/plain": [
       "'\\n\\nMaria é uma mulher de 35 anos que concluiu o ensino médio. Ela trabalha no varejo, mas sua família não tem imóveis ou carros. O índice de vulnerabilidade social de Maria é maior que 50.\\n\\nMaria tem interesses em bebês, beleza e saúde, delivery e turismo. Ela adora cuidar dos bebês e está sempre em busca de novos produtos para manter sua beleza e saúde. Além disso, ela também gosta de experimentar os serviços de delivery para provar diferentes pratos e também aproveita as viagens para conhecer novos destinos turísticos.\\n\\nMaria está sempre em busca de novas experiências e se esforça para manter sua família sempre unida. Ela acredita que a educação é a chave para um futuro melhor e por isso incentiva seus filhos a estudarem para alcançarem seus sonhos.'"
      ]
     },
     "execution_count": 25,
     "metadata": {},
     "output_type": "execute_result"
    }
   ],
   "source": [
    "persona_text['choices'][0]['text']"
   ]
  },
  {
   "cell_type": "code",
   "execution_count": 26,
   "metadata": {},
   "outputs": [],
   "source": [
    "response = openai.Completion.create(\n",
    "  model=\"text-davinci-003\",\n",
    "  prompt=\"Crie um texto sobre uma persona de um homem com mais de 60 anos, nordestino de João Pessoa, com interesse em música, ensino superior completo e trabalhava com programação.\",\n",
    "  temperature=0.5,\n",
    "  max_tokens=1000,\n",
    "  top_p=1.0,\n",
    "  frequency_penalty=0.5,\n",
    "  presence_penalty=0.0,\n",
    "  stop=[\"You:\"]\n",
    ")"
   ]
  },
  {
   "cell_type": "code",
   "execution_count": 27,
   "metadata": {},
   "outputs": [],
   "source": [
    "persona_text = response.to_dict()"
   ]
  },
  {
   "cell_type": "code",
   "execution_count": 28,
   "metadata": {},
   "outputs": [
    {
     "data": {
      "text/plain": [
       "'\\n\\nSeu nome é João, um homem de 61 anos, nascido e criado na cidade de João Pessoa, no Nordeste do Brasil. Seus pais trabalhavam como agricultores e lhe ensinaram desde cedo os valores da família e a importância da educação.\\n\\nJoão foi um estudante dedicado, concluiu seu ensino superior em Ciência da Computação com êxito e começou a trabalhar com programação. Aprendeu muito durante esse período, pois era alguém que gostava de se desafiar constantemente.\\n\\nAlém disso, João também tem uma grande paixão por música. Ele adora ouvir todos os tipos de gêneros musicais e aproveita qualquer oportunidade para tocar instrumentos musicais. Seu grande sonho é tocar em um show para amigos e familiares quando completar 70 anos.\\n\\nJoão também adora viajar para descobrir novos lugares e culturas, pois acredita que isso lhe dá uma visão mais ampla do mundo. Ele é uma pessoa calorosa e gentil que sempre está pronto para ajudar quem precisa.'"
      ]
     },
     "execution_count": 28,
     "metadata": {},
     "output_type": "execute_result"
    }
   ],
   "source": [
    "persona_text['choices'][0]['text']"
   ]
  }
 ],
 "metadata": {
  "kernelspec": {
   "display_name": "venv",
   "language": "python",
   "name": "python3"
  },
  "language_info": {
   "codemirror_mode": {
    "name": "ipython",
    "version": 3
   },
   "file_extension": ".py",
   "mimetype": "text/x-python",
   "name": "python",
   "nbconvert_exporter": "python",
   "pygments_lexer": "ipython3",
   "version": "3.9.13"
  },
  "orig_nbformat": 4,
  "vscode": {
   "interpreter": {
    "hash": "99e83edde05a50b92db458c55c357eed25050bb31b13e438ac1f0805797a2e50"
   }
  }
 },
 "nbformat": 4,
 "nbformat_minor": 2
}
